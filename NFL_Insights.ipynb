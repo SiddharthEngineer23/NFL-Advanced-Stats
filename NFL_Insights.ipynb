{
 "cells": [
  {
   "cell_type": "code",
   "execution_count": 1,
   "metadata": {},
   "outputs": [],
   "source": [
    "import csv\n",
    "import tabula\n",
    "import numpy\n",
    "import pandas as pd"
   ]
  },
  {
   "cell_type": "code",
   "execution_count": 2,
   "metadata": {
    "scrolled": true
   },
   "outputs": [
    {
     "name": "stderr",
     "output_type": "stream",
     "text": [
      "C:\\Users\\ME\\anaconda3\\lib\\site-packages\\IPython\\core\\interactiveshell.py:3071: DtypeWarning: Columns (42,166,167,168,169,174,175,178,179,182,183,188,189,190,191,194,195,203,204,205,218,219,220,231,232,233,238,240,241,249) have mixed types.Specify dtype option on import or set low_memory=False.\n",
      "  has_raised = await self.run_ast_nodes(code_ast.body, cell_name,\n"
     ]
    }
   ],
   "source": [
    "df_big = pd.read_csv(open(r'C:\\Users\\ME\\Documents\\data.csv'))"
   ]
  },
  {
   "cell_type": "code",
   "execution_count": 3,
   "metadata": {},
   "outputs": [],
   "source": [
    "df = pd.DataFrame()\n",
    "df[['game_id', 'home_team', 'away_team', 'posteam_type', 'yardline_100', 'game_seconds_remaining', 'play_type', 'yards_gained', 'total_home_score', 'total_away_score', 'sack']] = df_big[['game_id', 'home_team', 'away_team', 'posteam_type', 'yardline_100', 'game_seconds_remaining', 'play_type', 'yards_gained', 'total_home_score', 'total_away_score', 'sack']]"
   ]
  },
  {
   "cell_type": "code",
   "execution_count": 4,
   "metadata": {},
   "outputs": [],
   "source": [
    "def median_running(run_df):\n",
    "    return run_df['yards_gained'].median()"
   ]
  },
  {
   "cell_type": "code",
   "execution_count": 5,
   "metadata": {},
   "outputs": [],
   "source": [
    "def median_passing(pass_df):\n",
    "    return pass_df['yards_gained'].median()"
   ]
  },
  {
   "cell_type": "code",
   "execution_count": 6,
   "metadata": {},
   "outputs": [],
   "source": [
    "def pull(game_id, home, df):\n",
    "    #Get dataframe for all plays in game\n",
    "    game_df = df[df['game_id'] == game_id]\n",
    "    \n",
    "    #Get dataframe for all run plays where home team has possession\n",
    "    if(home):\n",
    "        type = \"home\"\n",
    "    else:\n",
    "        type = \"away\"\n",
    "    team_df = game_df[game_df['posteam_type'] == type]\n",
    "    run_df = team_df[team_df['play_type'] == \"run\"]\n",
    "    pass_df = team_df[team_df['play_type'] == \"pass\"]\n",
    "    \n",
    "    median_rush = median_running(run_df)\n",
    "    median_pass = median_passing(pass_df)\n",
    "    \n",
    "    return {'Median Rush Yards' : median_rush, 'Median Pass Yards' : median_pass}"
   ]
  },
  {
   "cell_type": "code",
   "execution_count": 7,
   "metadata": {},
   "outputs": [],
   "source": [
    "def num_sacks(team_df):   \n",
    "    return team_df['sack'].sum()"
   ]
  },
  {
   "cell_type": "code",
   "execution_count": 8,
   "metadata": {},
   "outputs": [],
   "source": [
    "def num_bp(run_df, pass_df):  \n",
    "    big_runs = run_df[run_df['yards_gained'] > 12]\n",
    "    big_passes = pass_df[pass_df['yards_gained'] > 16]\n",
    "    return len(big_runs)+len(big_passes)"
   ]
  },
  {
   "cell_type": "code",
   "execution_count": 9,
   "metadata": {},
   "outputs": [],
   "source": [
    "def num_rush(run_df):\n",
    "    return len(run_df)"
   ]
  },
  {
   "cell_type": "code",
   "execution_count": 10,
   "metadata": {},
   "outputs": [],
   "source": [
    "def time_of_possession(home, game_df):\n",
    "        \n",
    "    if(len(game_df) < 2):\n",
    "        time = 0\n",
    "    else:\n",
    "        if(game_df['posteam_type'].iloc[0] == home):\n",
    "            time_current = game_df['game_seconds_remaining'].iloc[0]\n",
    "            time_next = game_df['game_seconds_remaining'].iloc[1]\n",
    "            time = time_current - time_next + time_of_possession(home, game_df[1:])\n",
    "        else:\n",
    "            time = time_of_possession(home, game_df[1:]) \n",
    "    return time"
   ]
  },
  {
   "cell_type": "code",
   "execution_count": 11,
   "metadata": {},
   "outputs": [],
   "source": [
    "def average_start(home, game_df):\n",
    "    yardline = 0\n",
    "    count = 0\n",
    "    i = 1\n",
    "    average_start = 0\n",
    "    \n",
    "    if(home):\n",
    "        type = \"home\"\n",
    "    else:\n",
    "        type = \"away\"\n",
    "        \n",
    "    while(i < len(game_df)):\n",
    "        punt = game_df['play_type'].iloc[i-1] == \"punt\"\n",
    "        kickoff = game_df['play_type'].iloc[i-1] == \"kickoff\"\n",
    "        to_home = game_df['posteam_type'].iloc[i] == type\n",
    "        \n",
    "        if((punt or kickoff) and to_home):\n",
    "            yardline += game_df['yardline_100'].iloc[i]\n",
    "            count += 1\n",
    "        i += 1\n",
    "    if(count > 0):\n",
    "        average_start = 100 - float(yardline / count)\n",
    "    \n",
    "    return average_start"
   ]
  },
  {
   "cell_type": "code",
   "execution_count": null,
   "metadata": {},
   "outputs": [],
   "source": [
    "def turnovers_q1(home, game_df):\n"
   ]
  },
  {
   "cell_type": "code",
   "execution_count": null,
   "metadata": {},
   "outputs": [],
   "source": [
    "def turnovers_q2(home, game_df):\n",
    "    "
   ]
  },
  {
   "cell_type": "code",
   "execution_count": null,
   "metadata": {},
   "outputs": [],
   "source": [
    "def turnovers_q3(home, game_df):"
   ]
  },
  {
   "cell_type": "code",
   "execution_count": null,
   "metadata": {},
   "outputs": [],
   "source": [
    "def turnovers_q4(home, game_df):"
   ]
  },
  {
   "cell_type": "code",
   "execution_count": null,
   "metadata": {},
   "outputs": [],
   "source": [
    "def fumbles(home, game_df):\n",
    "    \n",
    "    #yardline\n",
    "    return 0;"
   ]
  },
  {
   "cell_type": "code",
   "execution_count": null,
   "metadata": {},
   "outputs": [],
   "source": [
    "def average_completion_streak(home, game_df):\n",
    "    "
   ]
  },
  {
   "cell_type": "code",
   "execution_count": 12,
   "metadata": {},
   "outputs": [],
   "source": [
    "def total_points(home, game_df):\n",
    "    if(home):\n",
    "        score = game_df['total_home_score'].max()\n",
    "    else:\n",
    "        score = game_df['total_away_score'].max()\n",
    "        \n",
    "    return score"
   ]
  },
  {
   "cell_type": "code",
   "execution_count": 13,
   "metadata": {},
   "outputs": [],
   "source": [
    "def summary_row(game_id, home, df):\n",
    "    \n",
    "    #Get dataframe for all plays in game\n",
    "    game_df = df[df['game_id'] == game_id]\n",
    "    \n",
    "    #Get dataframe for all run plays where home team has possession\n",
    "    if(home):\n",
    "        type = \"home\"\n",
    "    else:\n",
    "        type = \"away\"\n",
    "    \n",
    "    team_df = game_df[game_df['posteam_type'] == type]\n",
    "    run_df = team_df[team_df['play_type'] == \"run\"]\n",
    "    pass_df = team_df[team_df['play_type'] == \"pass\"]\n",
    "    kickoff_df = team_df[team_df['play_type'] == \"kickoff\"]\n",
    "    punt_df = team_df[team_df['play_type'] == \"punt\"]        \n",
    "    \n",
    "    #Find median rushing and passing yards\n",
    "    median_rush = median_running(run_df)\n",
    "    median_pass = median_passing(pass_df)\n",
    "    \n",
    "    #Find total number of sacks\n",
    "    sacks = num_sacks(team_df)\n",
    "    \n",
    "    #Find total number of big plays\n",
    "    big_plays = num_bp(run_df, pass_df)\n",
    "    \n",
    "    #Find number of rush\n",
    "    num_runs = num_rush(run_df)\n",
    "    \n",
    "    #Find time of possession\n",
    "    top = time_of_possession(type, game_df)\n",
    "        \n",
    "    #Average starting field position\n",
    "    starting_fp = average_start(home, game_df)\n",
    "    \n",
    "    #Find total points\n",
    "    score = total_points(home, game_df)\n",
    "    \n",
    "    #Create new row to add to summary dataframe\n",
    "    return {'Median Rush Yards' : median_rush, 'Median Pass Yards' : median_pass, 'Sacks' : sacks, 'Big Plays' : big_plays, 'Number Of Runs' : num_runs, 'Time Of Possession' : top, 'Average Starting Field Position' : starting_fp, 'Total Points' : score}\n",
    "    #Add row\n",
    "    #df_summary.append(new_row, ignore_index = True)"
   ]
  },
  {
   "cell_type": "code",
   "execution_count": 14,
   "metadata": {},
   "outputs": [],
   "source": [
    "def make_game_df(df):\n",
    "    game_df = pd.DataFrame()\n",
    "    df_away = pd.DataFrame()\n",
    "        \n",
    "    game_df[['Team', 'Game_ID']] = df[['home_team', 'game_id']]\n",
    "    game_df['Home'] = True\n",
    "    df_away[['Team', 'Game_ID']] = df[['away_team', 'game_id']]\n",
    "    df_away['Home'] = False\n",
    "    \n",
    "    game_df = game_df.append(df_away, ignore_index=True)\n",
    "    game_df_noduplicates = game_df.drop_duplicates(ignore_index=True)\n",
    "    \n",
    "    return game_df_noduplicates"
   ]
  },
  {
   "cell_type": "code",
   "execution_count": 15,
   "metadata": {},
   "outputs": [
    {
     "data": {
      "text/plain": [
       "<bound method NDFrame.head of      Team     Game_ID   Home\n",
       "0     PIT  2009091000   True\n",
       "1     CLE  2009091304   True\n",
       "2      NO  2009091307   True\n",
       "3      TB  2009091308   True\n",
       "4     HOU  2009091305   True\n",
       "...   ...         ...    ...\n",
       "5047  DAL  2018121605  False\n",
       "5048  SEA  2018121609  False\n",
       "5049   NE  2018121610  False\n",
       "5050  PHI  2018121611  False\n",
       "5051   NO  2018121700  False\n",
       "\n",
       "[5052 rows x 3 columns]>"
      ]
     },
     "execution_count": 15,
     "metadata": {},
     "output_type": "execute_result"
    }
   ],
   "source": [
    "games_df = make_game_df(df)\n",
    "games_df.head"
   ]
  },
  {
   "cell_type": "code",
   "execution_count": 16,
   "metadata": {},
   "outputs": [
    {
     "data": {
      "text/plain": [
       "{'Median Rush Yards': 2.0,\n",
       " 'Median Pass Yards': 3.5,\n",
       " 'Sacks': 1.0,\n",
       " 'Big Plays': 4,\n",
       " 'Number Of Runs': 25,\n",
       " 'Time Of Possession': 1693.0,\n",
       " 'Average Starting Field Position': 18.599999999999994,\n",
       " 'Total Points': 10}"
      ]
     },
     "execution_count": 16,
     "metadata": {},
     "output_type": "execute_result"
    }
   ],
   "source": [
    "summary_row(2009091000, False, df)"
   ]
  },
  {
   "cell_type": "code",
   "execution_count": 17,
   "metadata": {
    "scrolled": false
   },
   "outputs": [],
   "source": [
    "games_df = make_game_df(df)\n",
    "\n",
    "df_summary1 = pd.DataFrame()\n",
    "\n",
    "df_summary1['Team'] = games_df['Team']\n",
    "df_summary1['Game_ID'] = games_df['Game_ID']\n",
    "df_summary1['Home'] = games_df['Home']\n",
    "\n",
    "df_summary2 = pd.DataFrame()\n",
    "\n",
    "for i in range(len(games_df)):\n",
    "        row = games_df.iloc[i]\n",
    "        df_summary2 = df_summary2.append(summary_row(row[1], row[2], df), ignore_index=True)\n",
    "\n",
    "df_summary = pd.concat([df_summary1, df_summary2], axis=1)\n"
   ]
  },
  {
   "cell_type": "code",
   "execution_count": 18,
   "metadata": {},
   "outputs": [],
   "source": [
    "df_summary.to_csv(r'C:\\Users\\ME\\Documents\\summary.csv', index=False)"
   ]
  },
  {
   "cell_type": "code",
   "execution_count": null,
   "metadata": {},
   "outputs": [],
   "source": []
  }
 ],
 "metadata": {
  "kernelspec": {
   "display_name": "Python 3",
   "language": "python",
   "name": "python3"
  },
  "language_info": {
   "codemirror_mode": {
    "name": "ipython",
    "version": 3
   },
   "file_extension": ".py",
   "mimetype": "text/x-python",
   "name": "python",
   "nbconvert_exporter": "python",
   "pygments_lexer": "ipython3",
   "version": "3.8.3"
  }
 },
 "nbformat": 4,
 "nbformat_minor": 4
}
